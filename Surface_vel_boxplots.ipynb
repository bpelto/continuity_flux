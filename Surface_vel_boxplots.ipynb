{
 "cells": [
  {
   "cell_type": "markdown",
   "metadata": {},
   "source": [
    "### Create boxplots comparing annual feature tracking derived surface velocity mosaics and annual ITS_LIVE mosaics \n",
    "#### Ben Pelto May 30, 2021"
   ]
  },
  {
   "cell_type": "code",
   "execution_count": 11,
   "metadata": {},
   "outputs": [],
   "source": [
    "import matplotlib.pyplot as plt\n",
    "from matplotlib import pylab\n",
    "import numpy as np\n",
    "import pandas as pd\n",
    "import matplotlib.ticker as ticker\n",
    "import geopandas as gpd\n",
    "import math\n",
    "from scipy import stats\n",
    "import xarray as xr\n",
    "import pickle\n",
    "\n",
    "import warnings\n",
    "warnings.filterwarnings(\"ignore\")\n",
    "\n",
    "def cm2inch(*tupl):### plots in cm ##frontiers 180 mm for full width, 85 mm half width (1 column) figures\n",
    "    inch = 2.54\n",
    "    if isinstance(tupl[0], tuple):\n",
    "        return tuple(i/inch for i in tupl[0])\n",
    "    else:\n",
    "        return tuple(i/inch for i in tupl)\n",
    "    "
   ]
  },
  {
   "cell_type": "code",
   "execution_count": 12,
   "metadata": {},
   "outputs": [],
   "source": [
    "fl_path = '/home/pelto/Desktop/ice_flux/Conrad/'\n",
    "Glacier=['Conrad', 'Illecillewaet','Kokanee','Nordic','Zillmer'];\n",
    "glacier=['conrad', 'illecillewaet','kokanee','nordic','zillmer']\n",
    "YR =[2016, 2017, 2018];letter=['A','B','C','D','E']\n",
    "data = pd.DataFrame(columns=['glacier','source','year','V'])"
   ]
  },
  {
   "cell_type": "code",
   "execution_count": 13,
   "metadata": {},
   "outputs": [],
   "source": [
    "### import vz\n",
    "\n",
    "for G in Glacier: \n",
    "# G=0\n",
    "    for Y in YR:\n",
    "\n",
    "        #open file by glacier name\n",
    "        fpath=fl_path[:-7]+G+'/'\n",
    "        with open(fpath + str(Y)+'_vz.pkl', 'rb') as f:\n",
    "            dc = pickle.load(f)\n",
    "\n",
    "        #remove distriubuted thickness array\n",
    "        K=np.array(dc)\n",
    "\n",
    "        #find where there are values in this array\n",
    "        IDX= np.ma.where(K > 0, )\n",
    "\n",
    "        # pull out each value and save it in the dataframe called data\n",
    "        for i in np.arange(0,len(IDX[0])):\n",
    "            V=K[IDX[0][i]][IDX[1][i]]\n",
    "\n",
    "            data=data.append({'glacier':G,'source':'vz','year':Y,'V': V,},ignore_index=True)\n",
    "\n",
    "#         count+=1\n",
    "data[10:]"
   ]
  },
  {
   "cell_type": "code",
   "execution_count": 16,
   "metadata": {},
   "outputs": [],
   "source": [
    "### import vfg\n",
    "for G in Glacier: \n",
    "# G=0\n",
    "    for Y in YR:\n",
    "\n",
    "        #open file by glacier name\n",
    "        fpath=fl_path[:-7]+G+'/'\n",
    "        with open(fpath + str(Y)+'_Dvfg.pkl', 'rb') as f:\n",
    "            dc = pickle.load(f)\n",
    "\n",
    "        #remove distriubuted thickness array\n",
    "        K=np.array(dc)\n",
    "\n",
    "        #find where there are values in this array\n",
    "        IDX= np.ma.where(K > 0, )\n",
    "\n",
    "        # pull out each value and save it in the dataframe called data\n",
    "        for i in np.arange(0,len(IDX[0])):\n",
    "            V=K[IDX[0][i]]\n",
    "\n",
    "            data=data.append({'glacier':G,'source':'vfg','year':Y,'V': V,},ignore_index=True)\n",
    "\n",
    "#         count+=1\n",
    "data[10:]"
   ]
  },
  {
   "cell_type": "code",
   "execution_count": 18,
   "metadata": {},
   "outputs": [],
   "source": [
    "### import ITS\n",
    "its_glaciers=['Conrad', 'Illecillewaet','Nordic','Zillmer']\n",
    "for G in its_glaciers: \n",
    "    for Y in YR:\n",
    "\n",
    "        #open file by glacier name\n",
    "        fpath=fl_path[:-7]+G+'/'\n",
    "        with open(fpath + str(Y)+'_ITS.pkl', 'rb') as f:\n",
    "            dc = pickle.load(f)\n",
    "\n",
    "        #remove distriubuted thickness array\n",
    "        K=np.array(dc)\n",
    "\n",
    "        #find where there are values in this array\n",
    "        IDX= np.ma.where(K > 0, )\n",
    "\n",
    "        # pull out each value and save it in the dataframe called data\n",
    "        for i in np.arange(0,len(IDX[0])):\n",
    "            V=K[IDX[0][i]][IDX[1][i]]\n",
    "\n",
    "            data=data.append({'glacier':G,'source':'ITS','year':Y,'V': V,},ignore_index=True)\n",
    "\n",
    "#         count+=1"
   ]
  },
  {
   "cell_type": "code",
   "execution_count": 25,
   "metadata": {},
   "outputs": [
    {
     "data": {
      "image/png": "[encoded data removed]",
      "text/plain": [
       "<Figure size 240.945x623.622 with 5 Axes>"
      ]
     },
     "metadata": {
      "needs_background": "light"
     },
     "output_type": "display_data"
    }
   ],
   "source": [
    "###### Create boxplots\n",
    "\n",
    "letter=['A','B','C','D','E']\n",
    "font = {'family' : 'Helvetica', 'weight' : 'normal', 'size'   : 8}\n",
    "plt.rc('font', **font)\n",
    "pylab.rcParams['xtick.major.pad']='1';pylab.rcParams['ytick.major.pad']='1'\n",
    "\n",
    "import seaborn as sns\n",
    "fig_path= '/home/pelto/Desktop/ice_flux/figures/'\n",
    "########### plot for all three glaciers\n",
    "fig3, (ax1,ax2,ax3,ax4,ax5) = plt.subplots(5,1, figsize=(cm2inch(8.5, 22)),sharex=True) \n",
    "a=ax1,ax2,ax3,ax4,ax5\n",
    "widths=25,25,20\n",
    "for g in range(5):\n",
    "    fpath=fl_path[:-7]+Glacier[g]+'/'    \n",
    "    \n",
    "    colors = ['#3182bd','#9ecae1','#deebf7']#['#003f5c','#bc5090','#ffa600']\n",
    "    D=data[data.glacier==Glacier[g]]\n",
    "    if g==1:\n",
    "        D.V[D.V>45]=np.nan;D.dropna(subset=['V'],inplace=True); #remove anomalous patch in 2016 in acc. zone\n",
    "    elif g==0:\n",
    "        D.V[D.V>85]=np.nan;D.dropna(subset=['V'],inplace=True)\n",
    "    Bob = sns.boxplot(x=D.year, y=D.V, hue=D.source, palette=colors, saturation=0.85, \n",
    "                      linewidth=0.80, fliersize=0.5, ax=a[g]) \n",
    "    \n",
    "    a[g].text(0.03, 0.92, letter[g], transform=a[g].transAxes)\n",
    "    a[g].text(0.97, 0.92, Glacier[g], transform=a[g].transAxes, ha='right') \n",
    "    if g==1: \n",
    "        leg = ax1.legend(ncol = 1, bbox_to_anchor=[0.247,1.02],loc='upper center', handletextpad=0.5,columnspacing=0.95)\n",
    "        new_labels = ['Mosaic', 'Flux gate', 'ITS_LIVE']\n",
    "        for t, l in zip(leg.texts, new_labels): t.set_text(l)\n",
    "\n",
    "#     ax2.legend(bbox_to_anchor=[0.44,1.02],loc='upper center', ncol=1, handletextpad=0.5,columnspacing=0.95)\n",
    "#                (D.V,D.vsource),('Mosaic','FG','ITS_LIVE')\n",
    "    ax3.legend([],[], frameon=False);ax2.legend([],[], frameon=False);ax4.legend([],[], frameon=False);ax5.legend([],[], frameon=False)              \n",
    "    \n",
    "#     leg = ax1.legend(ncol = 1, bbox_to_anchor=[0.44,-0.1],loc='upper center', handletextpad=0.5,columnspacing=0.95)\n",
    "#     new_labels = ['Mosaic', 'Flux gate', 'ITS_LIVE']\n",
    "#     for t, l in zip(leg.texts, new_labels): t.set_text(l)        \n",
    "        \n",
    "ax3.patch.set_facecolor('white')\n",
    "ax3.patch.set_alpha(0.0)    \n",
    "\n",
    "ax1.set(ylabel=(''),ylim=(-5, 90),xlabel=(''));ax2.set(ylabel=(''),ylim=(-3, 50),xlabel=('')) \n",
    "ax5.set(ylabel=(''),ylim=(-3, 50),xlabel=('Year'));ax4.set(ylabel=(''),ylim=(-3, 50),xlabel=(''))  \n",
    "ax3.set(ylabel=('Ice velocity (m a$^{-1}$)'),ylim=(-2, 35),xlabel=(''));\n",
    "fig3.subplots_adjust(bottom=0.04, top=0.995, hspace=0.05, left=0.125, right=0.99, wspace=0.05)\n",
    "# fig3.savefig(fig_path + 'All_Velocities_boxplt.pdf', dpi=300)\n",
    "fig3.savefig(fig_path + 'Surface_ice_velocities_5glaciers_boxplot.pdf', dpi=300)"
   ]
  },
  {
   "cell_type": "code",
   "execution_count": 46,
   "metadata": {},
   "outputs": [
    {
     "name": "stdout",
     "output_type": "stream",
     "text": [
      "18.66 17.659666338835713 94.66\n",
      "4.98 3.873127755073546 29.28\n",
      "12.63 13.04278486720378 72.9\n",
      "8.01 6.860298580794729 47.67\n",
      "8.09 7.898753713939655 42.32\n"
     ]
    }
   ],
   "source": [
    "print(np.nanmean(data.V[(data.glacier=='Conrad')&(data.source=='vz')]).round(2),np.nanmean(data.V[(data.glacier=='Conrad')&(data.source=='vfg')]),np.nanmax(data.V[(data.glacier=='Conrad')&(data.source=='vz')]).round(2))\n",
    "print(np.nanmean(data.V[(data.glacier=='Kokanee')&(data.source=='vz')]).round(2),np.nanmean(data.V[(data.glacier=='Kokanee')&(data.source=='vfg')]),np.nanmax(data.V[(data.glacier=='Kokanee')&(data.source=='vz')]).round(2))\n",
    "print(np.nanmean(data.V[(data.glacier=='Illecillewaet')&(data.source=='vz')]).round(2),np.nanmean(data.V[(data.glacier=='Illecillewaet')&(data.source=='vfg')]),np.nanmax(data.V[(data.glacier=='Illecillewaet')&(data.source=='vz')]).round(2))\n",
    "print(np.nanmean(data.V[(data.glacier=='Nordic')&(data.source=='vz')]).round(2),np.nanmean(data.V[(data.glacier=='Nordic')&(data.source=='vfg')]),np.nanmax(data.V[(data.glacier=='Nordic')&(data.source=='vz')]).round(2))\n",
    "print(np.nanmean(data.V[(data.glacier=='Zillmer')&(data.source=='vz')]).round(2),np.nanmean(data.V[(data.glacier=='Zillmer')&(data.source=='vfg')]),np.nanmax(data.V[(data.glacier=='Zillmer')&(data.source=='vz')]).round(2))"
   ]
  }
 ],
 "metadata": {
  "kernelspec": {
   "display_name": "Python 3",
   "language": "python",
   "name": "python3"
  },
  "language_info": {
   "codemirror_mode": {
    "name": "ipython",
    "version": 3
   },
   "file_extension": ".py",
   "mimetype": "text/x-python",
   "name": "python",
   "nbconvert_exporter": "python",
   "pygments_lexer": "ipython3",
   "version": "3.6.13"
  }
 },
 "nbformat": 4,
 "nbformat_minor": 2
}
